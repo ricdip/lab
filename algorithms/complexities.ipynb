{
 "cells": [
  {
   "cell_type": "markdown",
   "id": "f8cb6f58-a5a8-4dd2-b063-2bec2a7fef6d",
   "metadata": {},
   "source": [
    "# Algorithms time complexities"
   ]
  },
  {
   "cell_type": "code",
   "execution_count": 1,
   "id": "a080a357-f0c4-4729-96cb-41b1f76dcef4",
   "metadata": {},
   "outputs": [],
   "source": [
    "import math\n",
    "import pandas as pd\n",
    "import matplotlib\n",
    "import matplotlib.pyplot as plt\n",
    "matplotlib.style.use('ggplot')"
   ]
  },
  {
   "cell_type": "code",
   "execution_count": 2,
   "id": "2c24b5f4-1112-4fc4-924d-0d0713a1a856",
   "metadata": {},
   "outputs": [],
   "source": [
    "arr = [6, 8, 3, 5, 9, 1, 4, 7, 10, 2]"
   ]
  },
  {
   "cell_type": "code",
   "execution_count": 3,
   "id": "094277f1-6294-40fc-98a0-5689d490c3bb",
   "metadata": {},
   "outputs": [],
   "source": [
    "complexities = dict()"
   ]
  },
  {
   "cell_type": "markdown",
   "id": "180a87f7-f1ac-4358-8d4e-bc186ddf5e53",
   "metadata": {},
   "source": [
    "## $O(1)$: constant time"
   ]
  },
  {
   "cell_type": "markdown",
   "id": "0419515d-4d37-4213-8d16-6a81b4a8673c",
   "metadata": {},
   "source": [
    "A constant time algorithm has a complexity that does not depend on the size of the input.\n",
    "\n",
    "Examples:\n",
    "- accessing any single element in an array\n",
    "- finding the minimal value in an array sorted in ascending order"
   ]
  },
  {
   "cell_type": "code",
   "execution_count": 4,
   "id": "91de64f6-ee4f-490d-8186-b1c26671eec8",
   "metadata": {},
   "outputs": [],
   "source": [
    "def increment(n):\n",
    "    n += 1"
   ]
  },
  {
   "cell_type": "code",
   "execution_count": 5,
   "id": "63b5aa3d-63ba-4ea4-8c13-13ca93215325",
   "metadata": {},
   "outputs": [
    {
     "name": "stdout",
     "output_type": "stream",
     "text": [
      "84.9 ns ± 3.94 ns per loop (mean ± std. dev. of 7 runs, 10,000,000 loops each)\n"
     ]
    }
   ],
   "source": [
    "complexities[\"O(1)\"] = %timeit -o increment(1)"
   ]
  },
  {
   "cell_type": "markdown",
   "id": "9a354be7-6ed4-49f7-8462-122b6cf51a05",
   "metadata": {},
   "source": [
    "## $O(\\log n)$: logarithmic time"
   ]
  },
  {
   "cell_type": "markdown",
   "id": "5d3011eb-7d0e-4a38-9105-8b6fb59852b6",
   "metadata": {},
   "source": [
    "A logarithmic time algorithm is considered highly efficient. It performs a number of operations proportional to the logarithm of the input size $n$.\n",
    "\n",
    "The ratio of operations to input size $n$ with $n \\rightarrow +\\infty$ is $\\frac{\\log n}{n} = 0$. This means that as the input grows, the number of operations per input element shrinks toward $0$.\n",
    "\n",
    "Examples:\n",
    "- operations on binary trees\n",
    "- binary search"
   ]
  },
  {
   "cell_type": "code",
   "execution_count": 6,
   "id": "3a3d4baa-3fa1-4556-b294-68e8f3657122",
   "metadata": {},
   "outputs": [],
   "source": [
    "def binary_search(array, target):\n",
    "    left = 0\n",
    "    right = len(array) - 1\n",
    "    while left <= right:\n",
    "        middle = left + math.floor((right - left) / 2)\n",
    "        if array[middle] < target:\n",
    "            left = middle + 1\n",
    "        elif array[middle] > target:\n",
    "            right = middle - 1\n",
    "        else:\n",
    "            return middle\n",
    "    return -1"
   ]
  },
  {
   "cell_type": "code",
   "execution_count": 7,
   "id": "07dbcce6-e5f7-4cb1-b09b-57d4052731c3",
   "metadata": {},
   "outputs": [
    {
     "data": {
      "text/plain": [
       "[1, 2, 3, 4, 5, 6, 7, 8, 9, 10]"
      ]
     },
     "execution_count": 7,
     "metadata": {},
     "output_type": "execute_result"
    }
   ],
   "source": [
    "ordered_arr = sorted(arr)\n",
    "ordered_arr"
   ]
  },
  {
   "cell_type": "code",
   "execution_count": 8,
   "id": "9e68cc11-4f7d-40a8-86fd-f46a573c1e10",
   "metadata": {},
   "outputs": [
    {
     "name": "stdout",
     "output_type": "stream",
     "text": [
      "997 ns ± 22.4 ns per loop (mean ± std. dev. of 7 runs, 1,000,000 loops each)\n"
     ]
    }
   ],
   "source": [
    "complexities[\"O(log(n))\"] = %timeit -o binary_search(ordered_arr, 10)"
   ]
  },
  {
   "cell_type": "markdown",
   "id": "ab0a5ea4-4af6-4f6a-aee1-744e3c18a77e",
   "metadata": {},
   "source": [
    "## $O(\\sqrt n)$: square root time"
   ]
  },
  {
   "cell_type": "markdown",
   "id": "5b70d18b-1fc2-40a8-9f4a-22353218dbbc",
   "metadata": {},
   "source": [
    "Algorithm with this time complexity are uncommon compared to linear or logarithmic ones. Typically they appear in some clever optimizations or mathematical algorithms.\n",
    "\n",
    "This algorithms are faster than linear time algorithms but slower than logarithmic algorithms.\n",
    "\n",
    "Examples:\n",
    "- primality testing: check if a number $n$ is prime"
   ]
  },
  {
   "cell_type": "code",
   "execution_count": 9,
   "id": "d169e7b6-e764-49e8-baf8-85a81ceee96f",
   "metadata": {},
   "outputs": [],
   "source": [
    "def is_prime(n):\n",
    "    if n <= 1:\n",
    "        return False\n",
    "    if n <= 3:\n",
    "        return True\n",
    "    for i in range(2, math.ceil(math.sqrt(n)) + 1):\n",
    "        if n % i == 0:\n",
    "            return False\n",
    "    return True"
   ]
  },
  {
   "cell_type": "code",
   "execution_count": 10,
   "id": "e432f546-25cc-45c0-91f6-947e9e1f4045",
   "metadata": {},
   "outputs": [
    {
     "name": "stdout",
     "output_type": "stream",
     "text": [
      "1.4 μs ± 50.6 ns per loop (mean ± std. dev. of 7 runs, 1,000,000 loops each)\n"
     ]
    }
   ],
   "source": [
    "complexities[\"O(sqrt(n))\"] = %timeit -o is_prime(179)"
   ]
  },
  {
   "cell_type": "markdown",
   "id": "378a0f46-4528-43c1-bb92-8fb8aaf8d9bb",
   "metadata": {},
   "source": [
    "## $O(n)$: linear time"
   ]
  },
  {
   "cell_type": "markdown",
   "id": "33f6e5ab-a844-421e-82e1-1f77c6d8178c",
   "metadata": {},
   "source": [
    "A linear time algorithm has a complexity that increases at most linearly with the size of the input. Thus, there is a constant $c$ such that the running time is at most $c \\cdot n$ for every input size $n$.\n",
    "\n",
    "Examples:\n",
    "- search of an element in an unordered list\n",
    "- sum of all the elements in a list"
   ]
  },
  {
   "cell_type": "code",
   "execution_count": 11,
   "id": "c765e54e-cf4b-47f9-9b0c-ccd3388f2d96",
   "metadata": {},
   "outputs": [],
   "source": [
    "def linear(n):\n",
    "    sum = 0\n",
    "    for i in range(n):\n",
    "        sum += 1"
   ]
  },
  {
   "cell_type": "code",
   "execution_count": 12,
   "id": "da35d9e0-b12a-48c7-bb34-cc43de2fd290",
   "metadata": {},
   "outputs": [
    {
     "name": "stdout",
     "output_type": "stream",
     "text": [
      "3.28 μs ± 128 ns per loop (mean ± std. dev. of 7 runs, 100,000 loops each)\n"
     ]
    }
   ],
   "source": [
    "complexities[\"O(n)\"] = %timeit -o linear(100)"
   ]
  },
  {
   "cell_type": "markdown",
   "id": "15ca7486-7ec9-4b97-92e1-a98513dcb187",
   "metadata": {},
   "source": [
    "## $O(n \\log n)$: linearithmic (or log-linear) time"
   ]
  },
  {
   "cell_type": "markdown",
   "id": "1755545f-3eac-4249-8df5-2cd65d95fa07",
   "metadata": {},
   "source": [
    "In many cases, a log-linear algorithm performs $O(\\log n)$ operations $n$ times.\n",
    "\n",
    "Examples:\n",
    "- Mergesort algorithm that orders a list\n",
    "- Quicksort algorithm that orders a list"
   ]
  },
  {
   "cell_type": "code",
   "execution_count": 13,
   "id": "94ba28a4-fb0c-4886-8914-00aa0d60849e",
   "metadata": {},
   "outputs": [],
   "source": [
    "def mergesort(array):\n",
    "    if len(array) <= 1:\n",
    "        return array\n",
    "    \n",
    "    middle = len(array) // 2\n",
    "    left_array = mergesort(array[:middle]) # subarray with elements [0, middle)\n",
    "    right_array = mergesort(array[middle:]) # subarray with elements [middle, n]\n",
    "    return merge(left_array, right_array)\n",
    "\n",
    "def merge(left, right):\n",
    "    result = []\n",
    "    i = 0\n",
    "    j = 0\n",
    "\n",
    "    while i < len(left) and j < len(right):\n",
    "        if left[i] <= right[j]:\n",
    "            result.append(left[i])\n",
    "            i += 1\n",
    "        else:\n",
    "            result.append(right[j])\n",
    "            j += 1\n",
    "\n",
    "    # attach the remaining elements of left starting from i to result\n",
    "    result.extend(left[i:])\n",
    "    # attach the remaining elements of right starting from j to result\n",
    "    result.extend(right[j:])\n",
    "    return result"
   ]
  },
  {
   "cell_type": "code",
   "execution_count": 14,
   "id": "03421a7d-5308-4576-920f-698fc86105fb",
   "metadata": {},
   "outputs": [
    {
     "name": "stdout",
     "output_type": "stream",
     "text": [
      "17.3 μs ± 625 ns per loop (mean ± std. dev. of 7 runs, 100,000 loops each)\n"
     ]
    }
   ],
   "source": [
    "complexities[\"O(n*log(n))\"] = %timeit -o mergesort(arr)"
   ]
  },
  {
   "cell_type": "markdown",
   "id": "a33f2588-8718-43ee-8ecd-f137fdad1517",
   "metadata": {},
   "source": [
    "## $O(n^k)$: polynomial time"
   ]
  },
  {
   "cell_type": "markdown",
   "id": "686e250a-1acd-4107-b272-7676c24912da",
   "metadata": {},
   "source": [
    "An algorithm is said to be of **polynomial time** if its running time is **upper bounded** by a polynomial expression in the size of the input for the algorithm, that is $O(n^k)$ for some positive constant $k$.\n",
    "\n",
    "Problems for which a deterministic polynomial-time algorithm exists belong to the **complexity class P**.\n",
    "\n",
    "A problem is in the **complexity class NP** if a solution can be **verified** in polynomial time, even if finding that solution may take more than polynomial time. An example of a problem that is in **NP** is the TSP: a solution for this problem can be checked in polynomial time, but finding a solution is hard (the time complexity of a dynamic programming algorithm that solves TSP is $O(2^n)$)."
   ]
  },
  {
   "cell_type": "markdown",
   "id": "7c7fd0dd-c35d-47c3-a0df-bbfd7f1712ae",
   "metadata": {},
   "source": [
    "## $O(n^2)$: quadratic time"
   ]
  },
  {
   "cell_type": "markdown",
   "id": "7cdfee2b-8fa5-4284-97bf-7cbab7bec48f",
   "metadata": {},
   "source": [
    "A quadratic time algorithm is a polynomial time algorithm with $k = 2$.\n",
    "\n",
    "Examples:\n",
    "- Bubble sort algorithm that orders a list\n",
    "- Insertion sort algorithm that orders a list"
   ]
  },
  {
   "cell_type": "code",
   "execution_count": 15,
   "id": "f00eecd1-45e0-4f55-b771-69383fb3c685",
   "metadata": {},
   "outputs": [],
   "source": [
    "def quadratic(n):\n",
    "    sum = 0\n",
    "    for i in range(n):\n",
    "        for j in range(n):\n",
    "            sum += 1"
   ]
  },
  {
   "cell_type": "code",
   "execution_count": 16,
   "id": "7967ec19-ce03-408b-8e54-6f739699c908",
   "metadata": {},
   "outputs": [
    {
     "name": "stdout",
     "output_type": "stream",
     "text": [
      "555 μs ± 11.4 μs per loop (mean ± std. dev. of 7 runs, 1,000 loops each)\n"
     ]
    }
   ],
   "source": [
    "complexities[\"O(n^2)\"] = %timeit -o quadratic(100)"
   ]
  },
  {
   "cell_type": "markdown",
   "id": "d7ab4413-fcb3-4fdd-928a-c82780c6412d",
   "metadata": {},
   "source": [
    "## $O(n^{3})$: cubic time"
   ]
  },
  {
   "cell_type": "markdown",
   "id": "9fbd9883-e364-4f62-9159-4a4c5c1b3e0b",
   "metadata": {},
   "source": [
    "A cubic time algorithm is a polynomial time algorithm with $k = 3$.\n",
    "\n",
    "Examples:\n",
    "- naive matrix multiplication\n",
    "- Floyd-Warshall algorithm used in graph theory for finding the shortest path between every pair of vertices"
   ]
  },
  {
   "cell_type": "code",
   "execution_count": 17,
   "id": "6bd38770-6be0-496f-8470-1492b17f472b",
   "metadata": {},
   "outputs": [],
   "source": [
    "def cubic(n):\n",
    "    sum = 0\n",
    "    for i in range(n):\n",
    "        for j in range(n):\n",
    "            for k in range(n):\n",
    "                sum += 1"
   ]
  },
  {
   "cell_type": "code",
   "execution_count": 18,
   "id": "169fd60e-b802-4d9d-8762-7f45d65ecbe4",
   "metadata": {},
   "outputs": [
    {
     "name": "stdout",
     "output_type": "stream",
     "text": [
      "61 ms ± 6.96 ms per loop (mean ± std. dev. of 7 runs, 10 loops each)\n"
     ]
    }
   ],
   "source": [
    "complexities[\"O(n^3)\"] = %timeit -o cubic(100)"
   ]
  },
  {
   "cell_type": "markdown",
   "id": "2003f8fa-6f40-431d-9de3-c34779d81079",
   "metadata": {},
   "source": [
    "## $O(2^{n})$: exponential time"
   ]
  },
  {
   "cell_type": "markdown",
   "id": "5988b500-476e-4cbe-ba0c-8d22f609ad63",
   "metadata": {},
   "source": [
    "An exponential time algorithm has a complexity that grows exponentially with the size of the input $n$.\n",
    "\n",
    "These are typically algorithms that generate and check all possible **combinations** (the order does not matter) of the input (subsets, assignments, paths, etc).\n",
    "\n",
    "An algorithm with this time complexity becomes unusable around $n \\approx 30$.\n",
    "\n",
    "Examples:\n",
    "- naive algorithm for finding the n-th number in the Fibonacci sequence\n",
    "- solving TSP (Traveling Salesman Problem) using dynamic programming\n",
    "- 0/1 Knapsack with brute-force search"
   ]
  },
  {
   "cell_type": "code",
   "execution_count": 19,
   "id": "50d1c28d-8235-4d31-91f4-efb86ceb2832",
   "metadata": {},
   "outputs": [],
   "source": [
    "def fibonacci(n):\n",
    "    if n < 0:\n",
    "        return -1\n",
    "    elif n < 2:\n",
    "        return 1\n",
    "    else:\n",
    "        return fibonacci(n - 1) + fibonacci(n - 2)"
   ]
  },
  {
   "cell_type": "code",
   "execution_count": 20,
   "id": "570acaec-267d-4693-8cb6-2fca7d2334f4",
   "metadata": {},
   "outputs": [
    {
     "name": "stdout",
     "output_type": "stream",
     "text": [
      "350 ms ± 46.6 ms per loop (mean ± std. dev. of 7 runs, 1 loop each)\n"
     ]
    }
   ],
   "source": [
    "complexities[\"O(2^n)\"] = %timeit -o fibonacci(30)"
   ]
  },
  {
   "cell_type": "markdown",
   "id": "97ff0bd1-d032-4430-aad2-5f8ba78e9c1c",
   "metadata": {},
   "source": [
    "## $O({n!})$: factorial time"
   ]
  },
  {
   "cell_type": "markdown",
   "id": "fc044637-3714-4b5a-a349-a48e2d2396bd",
   "metadata": {},
   "source": [
    "An algorithm is said to be of factorial time if its running time is upper bound by the factorial function $n!$.\n",
    "\n",
    "These are typically algorithms that generate all possible permutations (the order matters) of the input (subsets, assignments, paths, etc).\n",
    "\n",
    "An algorithm with this time complexity becomes unusable around $n \\approx 10$.\n",
    "\n",
    "Examples:\n",
    "- finding all possible permutations of a sequence\n",
    "- solving TSP (Traveling Salesman Problem) using brute-force search\n",
    "- solving the Hamiltonian Cycle Problem using brute-force search"
   ]
  },
  {
   "cell_type": "code",
   "execution_count": 21,
   "id": "38d04ad4-1b1b-4f0b-940e-7ce3851bbfe9",
   "metadata": {},
   "outputs": [],
   "source": [
    "def permutate(array):\n",
    "    if len(array) == 1:\n",
    "        return [array]\n",
    "\n",
    "    perms = []\n",
    "\n",
    "    for i, e1 in enumerate(array):\n",
    "        selected = [e1]\n",
    "        head = array[:i]\n",
    "        tail = array[i+1:]\n",
    "        rest = head + tail\n",
    "        remaining = permutate(rest)\n",
    "        for j, e2 in enumerate(remaining):\n",
    "            perm = selected + e2\n",
    "            perms.append(perm)\n",
    "    return perms"
   ]
  },
  {
   "cell_type": "code",
   "execution_count": 22,
   "id": "98528a51-c347-4fa0-a586-c30f50aa9b63",
   "metadata": {},
   "outputs": [
    {
     "name": "stdout",
     "output_type": "stream",
     "text": [
      "1.58 s ± 153 ms per loop (mean ± std. dev. of 7 runs, 1 loop each)\n"
     ]
    }
   ],
   "source": [
    "complexities[\"O(n!)\"] = %timeit -o permutate([1, 2, 3, 4, 5, 6, 7, 8, 9])"
   ]
  },
  {
   "cell_type": "markdown",
   "id": "a04bb832-9fba-4ae1-ab8f-d7df38c2d245",
   "metadata": {},
   "source": [
    "## $O(2^{2^{n}})$: double exponential time"
   ]
  },
  {
   "cell_type": "markdown",
   "id": "ed558f00-32e2-4509-9ace-dc416c70444e",
   "metadata": {},
   "source": [
    "A double exponential time algorithm has a complexity that grows far beyond the exponential time complexity and factorial time complexity.\n",
    "\n",
    "An algorithm with this time complexity becomes unusable for even a small $n \\approx 5$. Only a very small input can be handled.\n",
    "\n",
    "Examples:\n",
    "- theoretical problems in logic and formal verification, automata theory, AI planning"
   ]
  },
  {
   "cell_type": "code",
   "execution_count": 23,
   "id": "30a8bbfa-3916-459a-a83d-0e59c7805b9d",
   "metadata": {},
   "outputs": [],
   "source": [
    "def double_exponential(n):\n",
    "    iterations = 2 ** (2 ** n)\n",
    "    sum = 0\n",
    "    for i in range(0, iterations):\n",
    "        sum += 1"
   ]
  },
  {
   "cell_type": "code",
   "execution_count": 24,
   "id": "bb42be9d-6f34-4a39-801d-07df3efb0db1",
   "metadata": {},
   "outputs": [
    {
     "name": "stdout",
     "output_type": "stream",
     "text": [
      "6min 44s ± 0 ns per loop (mean ± std. dev. of 1 run, 1 loop each)\n"
     ]
    }
   ],
   "source": [
    "complexities[\"O(2^(2^n))\"] = %timeit -r 1 -n 1 -o double_exponential(5)"
   ]
  },
  {
   "cell_type": "markdown",
   "id": "6abab7e4-878f-4dfd-b9a3-b691b5a37992",
   "metadata": {},
   "source": [
    "## Summary"
   ]
  },
  {
   "cell_type": "code",
   "execution_count": 25,
   "id": "e8e45e05-6ba6-41bf-83e0-610230de7f9a",
   "metadata": {},
   "outputs": [],
   "source": [
    "complexities_data = [(complexity, time.average, str(time).split(\"per\")[0].strip()) for complexity, time in complexities.items()]"
   ]
  },
  {
   "cell_type": "code",
   "execution_count": 26,
   "id": "e999435f-84df-42cd-b9cd-d72c4e3c8dd5",
   "metadata": {},
   "outputs": [],
   "source": [
    "complexities_df = pd.DataFrame(data=complexities_data, columns=['Complexity', 'Execution time', 'Execution time summary (mean ± std. dev.)'])"
   ]
  },
  {
   "cell_type": "code",
   "execution_count": 27,
   "id": "d2e716ee-82dd-42c2-8489-a3919af05ceb",
   "metadata": {},
   "outputs": [
    {
     "data": {
      "text/html": [
       "<div>\n",
       "<style scoped>\n",
       "    .dataframe tbody tr th:only-of-type {\n",
       "        vertical-align: middle;\n",
       "    }\n",
       "\n",
       "    .dataframe tbody tr th {\n",
       "        vertical-align: top;\n",
       "    }\n",
       "\n",
       "    .dataframe thead th {\n",
       "        text-align: right;\n",
       "    }\n",
       "</style>\n",
       "<table border=\"1\" class=\"dataframe\">\n",
       "  <thead>\n",
       "    <tr style=\"text-align: right;\">\n",
       "      <th></th>\n",
       "      <th>Complexity</th>\n",
       "      <th>Execution time</th>\n",
       "      <th>Execution time summary (mean ± std. dev.)</th>\n",
       "    </tr>\n",
       "  </thead>\n",
       "  <tbody>\n",
       "    <tr>\n",
       "      <th>0</th>\n",
       "      <td>O(1)</td>\n",
       "      <td>8.489641e-08</td>\n",
       "      <td>84.9 ns ± 3.94 ns</td>\n",
       "    </tr>\n",
       "    <tr>\n",
       "      <th>1</th>\n",
       "      <td>O(log(n))</td>\n",
       "      <td>9.967909e-07</td>\n",
       "      <td>997 ns ± 22.4 ns</td>\n",
       "    </tr>\n",
       "    <tr>\n",
       "      <th>2</th>\n",
       "      <td>O(sqrt(n))</td>\n",
       "      <td>1.395984e-06</td>\n",
       "      <td>1.4 μs ± 50.6 ns</td>\n",
       "    </tr>\n",
       "    <tr>\n",
       "      <th>3</th>\n",
       "      <td>O(n)</td>\n",
       "      <td>3.283891e-06</td>\n",
       "      <td>3.28 μs ± 128 ns</td>\n",
       "    </tr>\n",
       "    <tr>\n",
       "      <th>4</th>\n",
       "      <td>O(n*log(n))</td>\n",
       "      <td>1.726711e-05</td>\n",
       "      <td>17.3 μs ± 625 ns</td>\n",
       "    </tr>\n",
       "    <tr>\n",
       "      <th>5</th>\n",
       "      <td>O(n^2)</td>\n",
       "      <td>5.553648e-04</td>\n",
       "      <td>555 μs ± 11.4 μs</td>\n",
       "    </tr>\n",
       "    <tr>\n",
       "      <th>6</th>\n",
       "      <td>O(n^3)</td>\n",
       "      <td>6.100364e-02</td>\n",
       "      <td>61 ms ± 6.96 ms</td>\n",
       "    </tr>\n",
       "    <tr>\n",
       "      <th>7</th>\n",
       "      <td>O(2^n)</td>\n",
       "      <td>3.497604e-01</td>\n",
       "      <td>350 ms ± 46.6 ms</td>\n",
       "    </tr>\n",
       "    <tr>\n",
       "      <th>8</th>\n",
       "      <td>O(n!)</td>\n",
       "      <td>1.581772e+00</td>\n",
       "      <td>1.58 s ± 153 ms</td>\n",
       "    </tr>\n",
       "    <tr>\n",
       "      <th>9</th>\n",
       "      <td>O(2^(2^n))</td>\n",
       "      <td>4.045723e+02</td>\n",
       "      <td>6min 44s ± 0 ns</td>\n",
       "    </tr>\n",
       "  </tbody>\n",
       "</table>\n",
       "</div>"
      ],
      "text/plain": [
       "    Complexity  Execution time Execution time summary (mean ± std. dev.)\n",
       "0         O(1)    8.489641e-08                         84.9 ns ± 3.94 ns\n",
       "1    O(log(n))    9.967909e-07                          997 ns ± 22.4 ns\n",
       "2   O(sqrt(n))    1.395984e-06                          1.4 μs ± 50.6 ns\n",
       "3         O(n)    3.283891e-06                          3.28 μs ± 128 ns\n",
       "4  O(n*log(n))    1.726711e-05                          17.3 μs ± 625 ns\n",
       "5       O(n^2)    5.553648e-04                          555 μs ± 11.4 μs\n",
       "6       O(n^3)    6.100364e-02                           61 ms ± 6.96 ms\n",
       "7       O(2^n)    3.497604e-01                          350 ms ± 46.6 ms\n",
       "8        O(n!)    1.581772e+00                           1.58 s ± 153 ms\n",
       "9   O(2^(2^n))    4.045723e+02                           6min 44s ± 0 ns"
      ]
     },
     "execution_count": 27,
     "metadata": {},
     "output_type": "execute_result"
    }
   ],
   "source": [
    "complexities_df"
   ]
  },
  {
   "cell_type": "code",
   "execution_count": 28,
   "id": "667b7218-8811-4274-912c-0b962b7c35c7",
   "metadata": {},
   "outputs": [
    {
     "data": {
      "text/plain": [
       "<Axes: xlabel='Complexity'>"
      ]
     },
     "execution_count": 28,
     "metadata": {},
     "output_type": "execute_result"
    },
    {
     "data": {
      "image/png": "[encoded data removed]",
      "text/plain": [
       "<Figure size 1000x500 with 1 Axes>"
      ]
     },
     "metadata": {},
     "output_type": "display_data"
    }
   ],
   "source": [
    "complexities_df.plot(kind=\"bar\", x=\"Complexity\", y=\"Execution time\", rot=0, color=\"C1\", logy=True, figsize=(10, 5))"
   ]
  }
 ],
 "metadata": {
  "kernelspec": {
   "display_name": "Python 3 (ipykernel)",
   "language": "python",
   "name": "python3"
  },
  "language_info": {
   "codemirror_mode": {
    "name": "ipython",
    "version": 3
   },
   "file_extension": ".py",
   "mimetype": "text/x-python",
   "name": "python",
   "nbconvert_exporter": "python",
   "pygments_lexer": "ipython3",
   "version": "3.12.8"
  }
 },
 "nbformat": 4,
 "nbformat_minor": 5
}
